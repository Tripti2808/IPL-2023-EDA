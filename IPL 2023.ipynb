{
 "cells": [
  {
   "cell_type": "code",
   "execution_count": 1,
   "id": "13f8a385-9606-408e-adc4-1013cc4fc4a0",
   "metadata": {},
   "outputs": [],
   "source": [
    "#importing libraries\n",
    "import pandas as pd\n",
    "import seaborn as sns\n",
    "import matplotlib.pyplot as plt"
   ]
  },
  {
   "cell_type": "code",
   "execution_count": 2,
   "id": "ce6847d5-2e36-419d-a61e-e665a256fbd6",
   "metadata": {},
   "outputs": [
    {
     "data": {
      "text/html": [
       "<div>\n",
       "<style scoped>\n",
       "    .dataframe tbody tr th:only-of-type {\n",
       "        vertical-align: middle;\n",
       "    }\n",
       "\n",
       "    .dataframe tbody tr th {\n",
       "        vertical-align: top;\n",
       "    }\n",
       "\n",
       "    .dataframe thead th {\n",
       "        text-align: right;\n",
       "    }\n",
       "</style>\n",
       "<table border=\"1\" class=\"dataframe\">\n",
       "  <thead>\n",
       "    <tr style=\"text-align: right;\">\n",
       "      <th></th>\n",
       "      <th>Match Number</th>\n",
       "      <th>Date</th>\n",
       "      <th>Day</th>\n",
       "      <th>Venue</th>\n",
       "      <th>Team1</th>\n",
       "      <th>Team2</th>\n",
       "      <th>Toss winning team</th>\n",
       "      <th>Toss Decision</th>\n",
       "      <th>First batting team</th>\n",
       "      <th>Second batting team</th>\n",
       "      <th>First Innings Score</th>\n",
       "      <th>first Innings wickets</th>\n",
       "      <th>Overs in First innings</th>\n",
       "      <th>Second Innings Score</th>\n",
       "      <th>second Innings wickets</th>\n",
       "      <th>Overs in Second innings</th>\n",
       "      <th>Winning Team</th>\n",
       "      <th>Won By runs</th>\n",
       "      <th>Won By  wickets</th>\n",
       "    </tr>\n",
       "  </thead>\n",
       "  <tbody>\n",
       "    <tr>\n",
       "      <th>0</th>\n",
       "      <td>63</td>\n",
       "      <td>16th May 2023</td>\n",
       "      <td>Tuesday</td>\n",
       "      <td>Bharat Ratna Shri Atal Bihari Vajpayee Ekana C...</td>\n",
       "      <td>Mumbai Indians</td>\n",
       "      <td>Lucknow Super Giants</td>\n",
       "      <td>MI</td>\n",
       "      <td>bowl</td>\n",
       "      <td>LSG</td>\n",
       "      <td>MI</td>\n",
       "      <td>177</td>\n",
       "      <td>3</td>\n",
       "      <td>20.0</td>\n",
       "      <td>172</td>\n",
       "      <td>5</td>\n",
       "      <td>20.0</td>\n",
       "      <td>Lucknow Super Giants</td>\n",
       "      <td>5</td>\n",
       "      <td>0</td>\n",
       "    </tr>\n",
       "    <tr>\n",
       "      <th>1</th>\n",
       "      <td>62</td>\n",
       "      <td>15th May 2023</td>\n",
       "      <td>Monday</td>\n",
       "      <td>Narendra Modi Stadium,  Ahmedabad</td>\n",
       "      <td>Gujarat Titans</td>\n",
       "      <td>Sunrisers Hyderabad</td>\n",
       "      <td>SRH</td>\n",
       "      <td>bowl</td>\n",
       "      <td>GT</td>\n",
       "      <td>SRH</td>\n",
       "      <td>188</td>\n",
       "      <td>9</td>\n",
       "      <td>20.0</td>\n",
       "      <td>154</td>\n",
       "      <td>9</td>\n",
       "      <td>20.0</td>\n",
       "      <td>Gujarat Titans</td>\n",
       "      <td>34</td>\n",
       "      <td>0</td>\n",
       "    </tr>\n",
       "    <tr>\n",
       "      <th>2</th>\n",
       "      <td>61</td>\n",
       "      <td>14th May 2023</td>\n",
       "      <td>Sunday</td>\n",
       "      <td>MA Chidambaram Stadium,  Chennai</td>\n",
       "      <td>Chennai Super Kings</td>\n",
       "      <td>Kolkata Knight Riders</td>\n",
       "      <td>CSK</td>\n",
       "      <td>bat</td>\n",
       "      <td>CSK</td>\n",
       "      <td>KKR</td>\n",
       "      <td>144</td>\n",
       "      <td>6</td>\n",
       "      <td>20.0</td>\n",
       "      <td>147</td>\n",
       "      <td>4</td>\n",
       "      <td>18.3</td>\n",
       "      <td>Kolkata Knight Riders</td>\n",
       "      <td>0</td>\n",
       "      <td>6</td>\n",
       "    </tr>\n",
       "    <tr>\n",
       "      <th>3</th>\n",
       "      <td>60</td>\n",
       "      <td>14th May 2023</td>\n",
       "      <td>Sunday</td>\n",
       "      <td>Sawai Mansingh Stadium,  Jaipur</td>\n",
       "      <td>Rajasthan Royals</td>\n",
       "      <td>Royal Challengers Bangalore</td>\n",
       "      <td>RCB</td>\n",
       "      <td>bat</td>\n",
       "      <td>RCB</td>\n",
       "      <td>RR</td>\n",
       "      <td>171</td>\n",
       "      <td>5</td>\n",
       "      <td>20.0</td>\n",
       "      <td>59</td>\n",
       "      <td>10</td>\n",
       "      <td>10.3</td>\n",
       "      <td>Royal Challengers Bangalore</td>\n",
       "      <td>112</td>\n",
       "      <td>0</td>\n",
       "    </tr>\n",
       "    <tr>\n",
       "      <th>4</th>\n",
       "      <td>59</td>\n",
       "      <td>13th May 2023</td>\n",
       "      <td>Saturday</td>\n",
       "      <td>Arun Jaitley Stadium,  Delhi</td>\n",
       "      <td>Delhi Capitals</td>\n",
       "      <td>Punjab Kings</td>\n",
       "      <td>DC</td>\n",
       "      <td>bowl</td>\n",
       "      <td>PBKS</td>\n",
       "      <td>DC</td>\n",
       "      <td>167</td>\n",
       "      <td>7</td>\n",
       "      <td>20.0</td>\n",
       "      <td>136</td>\n",
       "      <td>8</td>\n",
       "      <td>20.0</td>\n",
       "      <td>Punjab Kings</td>\n",
       "      <td>31</td>\n",
       "      <td>0</td>\n",
       "    </tr>\n",
       "  </tbody>\n",
       "</table>\n",
       "</div>"
      ],
      "text/plain": [
       "   Match Number           Date        Day  \\\n",
       "0            63  16th May 2023    Tuesday   \n",
       "1            62  15th May 2023     Monday   \n",
       "2            61  14th May 2023     Sunday   \n",
       "3            60  14th May 2023     Sunday   \n",
       "4            59  13th May 2023   Saturday   \n",
       "\n",
       "                                               Venue                Team1  \\\n",
       "0  Bharat Ratna Shri Atal Bihari Vajpayee Ekana C...       Mumbai Indians   \n",
       "1                  Narendra Modi Stadium,  Ahmedabad       Gujarat Titans   \n",
       "2                   MA Chidambaram Stadium,  Chennai  Chennai Super Kings   \n",
       "3                    Sawai Mansingh Stadium,  Jaipur     Rajasthan Royals   \n",
       "4                       Arun Jaitley Stadium,  Delhi       Delhi Capitals   \n",
       "\n",
       "                         Team2 Toss winning team Toss Decision  \\\n",
       "0         Lucknow Super Giants               MI           bowl   \n",
       "1          Sunrisers Hyderabad              SRH           bowl   \n",
       "2        Kolkata Knight Riders              CSK            bat   \n",
       "3  Royal Challengers Bangalore              RCB            bat   \n",
       "4                 Punjab Kings               DC           bowl   \n",
       "\n",
       "  First batting team Second batting team First Innings Score  \\\n",
       "0                LSG                  MI                 177   \n",
       "1                 GT                 SRH                 188   \n",
       "2                CSK                 KKR                 144   \n",
       "3                RCB                  RR                 171   \n",
       "4               PBKS                  DC                 167   \n",
       "\n",
       "   first Innings wickets  Overs in First innings  Second Innings Score  \\\n",
       "0                      3                    20.0                   172   \n",
       "1                      9                    20.0                   154   \n",
       "2                      6                    20.0                   147   \n",
       "3                      5                    20.0                    59   \n",
       "4                      7                    20.0                   136   \n",
       "\n",
       "   second Innings wickets  Overs in Second innings  \\\n",
       "0                       5                     20.0   \n",
       "1                       9                     20.0   \n",
       "2                       4                     18.3   \n",
       "3                      10                     10.3   \n",
       "4                       8                     20.0   \n",
       "\n",
       "                  Winning Team  Won By runs   Won By  wickets  \n",
       "0         Lucknow Super Giants             5                0  \n",
       "1               Gujarat Titans            34                0  \n",
       "2        Kolkata Knight Riders             0                6  \n",
       "3  Royal Challengers Bangalore           112                0  \n",
       "4                 Punjab Kings            31                0  "
      ]
     },
     "execution_count": 2,
     "metadata": {},
     "output_type": "execute_result"
    }
   ],
   "source": [
    "#loading dataset\n",
    "df=pd.read_csv(r\"C:\\Users\\LENOVO\\OneDrive\\Desktop\\IPL23dataset 2.csv\")\n",
    "df.head()"
   ]
  },
  {
   "cell_type": "code",
   "execution_count": 108,
   "id": "212bc052-3ed4-4fcc-a538-afef46af7b18",
   "metadata": {},
   "outputs": [
    {
     "data": {
      "text/plain": [
       "(63, 19)"
      ]
     },
     "execution_count": 108,
     "metadata": {},
     "output_type": "execute_result"
    }
   ],
   "source": [
    "#checking the number of rows and columns\n",
    "df.shape"
   ]
  },
  {
   "cell_type": "code",
   "execution_count": 109,
   "id": "9b52a7e8-06ff-44dc-a5ef-97540857547d",
   "metadata": {},
   "outputs": [
    {
     "name": "stdout",
     "output_type": "stream",
     "text": [
      "<class 'pandas.core.frame.DataFrame'>\n",
      "RangeIndex: 63 entries, 0 to 62\n",
      "Data columns (total 19 columns):\n",
      " #   Column                   Non-Null Count  Dtype  \n",
      "---  ------                   --------------  -----  \n",
      " 0   Match Number             63 non-null     int64  \n",
      " 1   Date                     63 non-null     object \n",
      " 2   Day                      63 non-null     object \n",
      " 3   Venue                    63 non-null     object \n",
      " 4   Team1                    63 non-null     object \n",
      " 5   Team2                    63 non-null     object \n",
      " 6   Toss winning team        63 non-null     object \n",
      " 7   Toss Decision            63 non-null     object \n",
      " 8   First batting team       63 non-null     object \n",
      " 9   Second batting team      63 non-null     object \n",
      " 10  First Innings Score      63 non-null     object \n",
      " 11  first Innings wickets    63 non-null     int64  \n",
      " 12  Overs in First innings   63 non-null     float64\n",
      " 13  Second Innings Score     63 non-null     int64  \n",
      " 14  second Innings wickets   63 non-null     int64  \n",
      " 15  Overs in Second innings  63 non-null     float64\n",
      " 16  Winning Team             63 non-null     object \n",
      " 17  Won By runs              63 non-null     int64  \n",
      " 18  Won By  wickets          63 non-null     int64  \n",
      "dtypes: float64(2), int64(6), object(11)\n",
      "memory usage: 9.5+ KB\n"
     ]
    }
   ],
   "source": [
    "#information about dataset\n",
    "df.info()"
   ]
  },
  {
   "cell_type": "code",
   "execution_count": 110,
   "id": "ce90d0cd-b988-40b1-b317-77090c91ee55",
   "metadata": {},
   "outputs": [
    {
     "data": {
      "text/plain": [
       "0"
      ]
     },
     "execution_count": 110,
     "metadata": {},
     "output_type": "execute_result"
    }
   ],
   "source": [
    "#checkin for duplicates\n",
    "df.duplicated().sum()"
   ]
  },
  {
   "cell_type": "code",
   "execution_count": 3,
   "id": "6d32c776-3757-4ea5-9e35-35b7a2a06487",
   "metadata": {},
   "outputs": [
    {
     "data": {
      "text/html": [
       "<div>\n",
       "<style scoped>\n",
       "    .dataframe tbody tr th:only-of-type {\n",
       "        vertical-align: middle;\n",
       "    }\n",
       "\n",
       "    .dataframe tbody tr th {\n",
       "        vertical-align: top;\n",
       "    }\n",
       "\n",
       "    .dataframe thead th {\n",
       "        text-align: right;\n",
       "    }\n",
       "</style>\n",
       "<table border=\"1\" class=\"dataframe\">\n",
       "  <thead>\n",
       "    <tr style=\"text-align: right;\">\n",
       "      <th></th>\n",
       "      <th>Match Number</th>\n",
       "      <th>Date</th>\n",
       "      <th>Day</th>\n",
       "      <th>Venue</th>\n",
       "      <th>Team1</th>\n",
       "      <th>Team2</th>\n",
       "      <th>Toss winning team</th>\n",
       "      <th>Toss Decision</th>\n",
       "      <th>First batting team</th>\n",
       "      <th>Second batting team</th>\n",
       "      <th>First Innings Score</th>\n",
       "      <th>first Innings wickets</th>\n",
       "      <th>Overs in First innings</th>\n",
       "      <th>Second Innings Score</th>\n",
       "      <th>second Innings wickets</th>\n",
       "      <th>Overs in Second innings</th>\n",
       "      <th>Winning Team</th>\n",
       "      <th>Won By runs</th>\n",
       "      <th>Won By  wickets</th>\n",
       "    </tr>\n",
       "  </thead>\n",
       "  <tbody>\n",
       "    <tr>\n",
       "      <th>18</th>\n",
       "      <td>45</td>\n",
       "      <td>3rd May 2023</td>\n",
       "      <td>Wednesday</td>\n",
       "      <td>Bharat Ratna Shri Atal Bihari Vajpayee Ekana C...</td>\n",
       "      <td>Punjab Kings</td>\n",
       "      <td>Mumbai Indians</td>\n",
       "      <td>MI</td>\n",
       "      <td>bowl</td>\n",
       "      <td>LSG</td>\n",
       "      <td>CSK</td>\n",
       "      <td>*125</td>\n",
       "      <td>7</td>\n",
       "      <td>19.2</td>\n",
       "      <td>0</td>\n",
       "      <td>0</td>\n",
       "      <td>0.0</td>\n",
       "      <td>Match Abandoned Due To Rain</td>\n",
       "      <td>0</td>\n",
       "      <td>0</td>\n",
       "    </tr>\n",
       "  </tbody>\n",
       "</table>\n",
       "</div>"
      ],
      "text/plain": [
       "    Match Number          Date         Day  \\\n",
       "18            45  3rd May 2023   Wednesday   \n",
       "\n",
       "                                                Venue         Team1  \\\n",
       "18  Bharat Ratna Shri Atal Bihari Vajpayee Ekana C...  Punjab Kings   \n",
       "\n",
       "             Team2 Toss winning team Toss Decision First batting team  \\\n",
       "18  Mumbai Indians               MI           bowl                LSG   \n",
       "\n",
       "   Second batting team First Innings Score  first Innings wickets  \\\n",
       "18                 CSK                *125                      7   \n",
       "\n",
       "    Overs in First innings  Second Innings Score  second Innings wickets  \\\n",
       "18                    19.2                     0                       0   \n",
       "\n",
       "    Overs in Second innings                 Winning Team  Won By runs   \\\n",
       "18                      0.0  Match Abandoned Due To Rain             0   \n",
       "\n",
       "    Won By  wickets  \n",
       "18                0  "
      ]
     },
     "execution_count": 3,
     "metadata": {},
     "output_type": "execute_result"
    }
   ],
   "source": [
    "df[(df[\"Winning Team\"]==\"Match Abandoned Due To Rain\")]"
   ]
  },
  {
   "cell_type": "code",
   "execution_count": 115,
   "id": "cdbfed6e-a1fe-42f5-9930-e0327e809051",
   "metadata": {},
   "outputs": [
    {
     "data": {
      "text/plain": [
       "array([63, 62, 61, 60, 59, 58, 57, 56, 55, 54, 53, 52, 51, 50, 49, 48, 47,\n",
       "       46, 45, 44, 43, 42, 41, 40, 39, 38, 37, 36, 35, 34, 33, 32, 31, 30,\n",
       "       29, 28, 27, 26, 25, 24, 23, 22, 21, 20, 19, 18, 17, 16, 15, 14, 13,\n",
       "       12, 11, 10,  9,  8,  7,  6,  5,  4,  3,  2,  1], dtype=int64)"
      ]
     },
     "execution_count": 115,
     "metadata": {},
     "output_type": "execute_result"
    }
   ],
   "source": [
    "df[\"Match Number\"].unique()"
   ]
  },
  {
   "cell_type": "code",
   "execution_count": 39,
   "id": "4ea515c5-cc56-4700-9297-b16ef61d28e3",
   "metadata": {},
   "outputs": [
    {
     "data": {
      "text/plain": [
       "RR       9\n",
       "CSK      8\n",
       "MI       7\n",
       "SRH      7\n",
       "RCB      7\n",
       "DC       7\n",
       "GT       7\n",
       "PBKS     4\n",
       "KKR      4\n",
       "LSG      3\n",
       "Name: Toss winning team, dtype: int64"
      ]
     },
     "execution_count": 39,
     "metadata": {},
     "output_type": "execute_result"
    }
   ],
   "source": [
    "#checking the no of times the team has won toss\n",
    "df['Toss winning team'].value_counts()"
   ]
  },
  {
   "cell_type": "code",
   "execution_count": 41,
   "id": "51aca379-1ac8-41bd-a191-3cc86d0b8ab2",
   "metadata": {},
   "outputs": [
    {
     "data": {
      "image/png": "[encoded data removed]",
      "text/plain": [
       "<Figure size 500x500 with 1 Axes>"
      ]
     },
     "metadata": {},
     "output_type": "display_data"
    }
   ],
   "source": [
    "#plotting the graph of toss won by teams\n",
    "plt.figure(figsize=(5,5))\n",
    "plt.bar(list(df['Toss winning team'].value_counts().keys()),list(df['Toss winning team'].value_counts()),color='g')\n",
    "plt.show()"
   ]
  },
  {
   "cell_type": "code",
   "execution_count": 42,
   "id": "70c10b31-85ca-4b02-8a71-7362c65b8c64",
   "metadata": {},
   "outputs": [
    {
     "data": {
      "text/plain": [
       "Gujarat Titans                 9\n",
       "Lucknow Super Giants           7\n",
       "Mumbai Indians                 7\n",
       "Chennai Super Kings            7\n",
       "Kolkata Knight Riders          6\n",
       "Royal Challengers Bangalore    6\n",
       "Punjab Kings                   6\n",
       "Rajasthan Royals               6\n",
       "Sunrisers Hyderabad            4\n",
       "Delhi Capitals                 4\n",
       "Match Abandoned Due To Rain    1\n",
       "Name: Winning Team, dtype: int64"
      ]
     },
     "execution_count": 42,
     "metadata": {},
     "output_type": "execute_result"
    }
   ],
   "source": [
    "#checking the no of times a team won match\n",
    "df['Winning Team'].value_counts()"
   ]
  },
  {
   "cell_type": "code",
   "execution_count": 43,
   "id": "28d215ba-0203-446d-9b58-a3e128e93b20",
   "metadata": {},
   "outputs": [
    {
     "data": {
      "image/png": "[encoded data removed]",
      "text/plain": [
       "<Figure size 500x500 with 1 Axes>"
      ]
     },
     "metadata": {},
     "output_type": "display_data"
    }
   ],
   "source": [
    "#plotting the graph for winning teams\n",
    "plt.figure(figsize=(5,5))\n",
    "plt.barh(list(df['Winning Team'].value_counts().keys()),list(df['Winning Team'].value_counts()),color='maroon',)\n",
    "plt.show()"
   ]
  },
  {
   "cell_type": "code",
   "execution_count": 118,
   "id": "3a2da942-dea7-4c2c-be19-5efcaa5e9431",
   "metadata": {},
   "outputs": [
    {
     "data": {
      "text/html": [
       "<div>\n",
       "<style scoped>\n",
       "    .dataframe tbody tr th:only-of-type {\n",
       "        vertical-align: middle;\n",
       "    }\n",
       "\n",
       "    .dataframe tbody tr th {\n",
       "        vertical-align: top;\n",
       "    }\n",
       "\n",
       "    .dataframe thead th {\n",
       "        text-align: right;\n",
       "    }\n",
       "</style>\n",
       "<table border=\"1\" class=\"dataframe\">\n",
       "  <thead>\n",
       "    <tr style=\"text-align: right;\">\n",
       "      <th></th>\n",
       "      <th>Match Number</th>\n",
       "      <th>Date</th>\n",
       "      <th>Day</th>\n",
       "      <th>Venue</th>\n",
       "      <th>Team1</th>\n",
       "      <th>Team2</th>\n",
       "      <th>Toss winning team</th>\n",
       "      <th>Toss Decision</th>\n",
       "      <th>First batting team</th>\n",
       "      <th>Second batting team</th>\n",
       "      <th>First Innings Score</th>\n",
       "      <th>first Innings wickets</th>\n",
       "      <th>Overs in First innings</th>\n",
       "      <th>Second Innings Score</th>\n",
       "      <th>second Innings wickets</th>\n",
       "      <th>Overs in Second innings</th>\n",
       "      <th>Winning Team</th>\n",
       "      <th>Won By runs</th>\n",
       "      <th>Won By  wickets</th>\n",
       "    </tr>\n",
       "  </thead>\n",
       "  <tbody>\n",
       "    <tr>\n",
       "      <th>2</th>\n",
       "      <td>61</td>\n",
       "      <td>14th May 2023</td>\n",
       "      <td>Sunday</td>\n",
       "      <td>MA Chidambaram Stadium,  Chennai</td>\n",
       "      <td>Chennai Super Kings</td>\n",
       "      <td>Kolkata Knight Riders</td>\n",
       "      <td>CSK</td>\n",
       "      <td>bat</td>\n",
       "      <td>CSK</td>\n",
       "      <td>KKR</td>\n",
       "      <td>144</td>\n",
       "      <td>6</td>\n",
       "      <td>20.0</td>\n",
       "      <td>147</td>\n",
       "      <td>4</td>\n",
       "      <td>18.3</td>\n",
       "      <td>Kolkata Knight Riders</td>\n",
       "      <td>0</td>\n",
       "      <td>6</td>\n",
       "    </tr>\n",
       "    <tr>\n",
       "      <th>5</th>\n",
       "      <td>58</td>\n",
       "      <td>13th May 2023</td>\n",
       "      <td>Saturday</td>\n",
       "      <td>Rajiv Gandhi International Stadium,  Uppal,  H...</td>\n",
       "      <td>Sunrisers Hyderabad</td>\n",
       "      <td>Lucknow Super Giants</td>\n",
       "      <td>SRH</td>\n",
       "      <td>bat</td>\n",
       "      <td>SRH</td>\n",
       "      <td>LSG</td>\n",
       "      <td>182</td>\n",
       "      <td>6</td>\n",
       "      <td>20.0</td>\n",
       "      <td>185</td>\n",
       "      <td>3</td>\n",
       "      <td>19.2</td>\n",
       "      <td>Lucknow Super Giants</td>\n",
       "      <td>0</td>\n",
       "      <td>7</td>\n",
       "    </tr>\n",
       "    <tr>\n",
       "      <th>7</th>\n",
       "      <td>56</td>\n",
       "      <td>11th May 2023</td>\n",
       "      <td>Thursday</td>\n",
       "      <td>Eden Gardens,  Kolkata</td>\n",
       "      <td>Kolkata Knight Riders</td>\n",
       "      <td>Rajasthan Royals</td>\n",
       "      <td>RR</td>\n",
       "      <td>bowl</td>\n",
       "      <td>KKR</td>\n",
       "      <td>RR</td>\n",
       "      <td>149</td>\n",
       "      <td>8</td>\n",
       "      <td>20.0</td>\n",
       "      <td>151</td>\n",
       "      <td>1</td>\n",
       "      <td>13.1</td>\n",
       "      <td>Rajasthan Royals</td>\n",
       "      <td>0</td>\n",
       "      <td>9</td>\n",
       "    </tr>\n",
       "  </tbody>\n",
       "</table>\n",
       "</div>"
      ],
      "text/plain": [
       "   Match Number           Date        Day  \\\n",
       "2            61  14th May 2023     Sunday   \n",
       "5            58  13th May 2023   Saturday   \n",
       "7            56  11th May 2023   Thursday   \n",
       "\n",
       "                                               Venue                  Team1  \\\n",
       "2                   MA Chidambaram Stadium,  Chennai    Chennai Super Kings   \n",
       "5  Rajiv Gandhi International Stadium,  Uppal,  H...    Sunrisers Hyderabad   \n",
       "7                             Eden Gardens,  Kolkata  Kolkata Knight Riders   \n",
       "\n",
       "                   Team2 Toss winning team Toss Decision First batting team  \\\n",
       "2  Kolkata Knight Riders              CSK            bat                CSK   \n",
       "5   Lucknow Super Giants              SRH            bat                SRH   \n",
       "7       Rajasthan Royals               RR           bowl                KKR   \n",
       "\n",
       "  Second batting team First Innings Score  first Innings wickets  \\\n",
       "2                 KKR                 144                      6   \n",
       "5                 LSG                 182                      6   \n",
       "7                  RR                 149                      8   \n",
       "\n",
       "   Overs in First innings  Second Innings Score  second Innings wickets  \\\n",
       "2                    20.0                   147                       4   \n",
       "5                    20.0                   185                       3   \n",
       "7                    20.0                   151                       1   \n",
       "\n",
       "   Overs in Second innings           Winning Team  Won By runs   \\\n",
       "2                     18.3  Kolkata Knight Riders             0   \n",
       "5                     19.2   Lucknow Super Giants             0   \n",
       "7                     13.1       Rajasthan Royals             0   \n",
       "\n",
       "   Won By  wickets  \n",
       "2                6  \n",
       "5                7  \n",
       "7                9  "
      ]
     },
     "execution_count": 118,
     "metadata": {},
     "output_type": "execute_result"
    }
   ],
   "source": [
    "#checking the teams won by wickets\n",
    "wbw=df[df[\"Won By  wickets\"]!=0]\n",
    "wbw.head(3)"
   ]
  },
  {
   "cell_type": "code",
   "execution_count": 45,
   "id": "219a7b81-199e-4703-9a0f-6d5656ff7fe8",
   "metadata": {},
   "outputs": [
    {
     "data": {
      "image/png": "[encoded data removed]",
      "text/plain": [
       "<Figure size 500x500 with 1 Axes>"
      ]
     },
     "metadata": {},
     "output_type": "display_data"
    }
   ],
   "source": [
    "#plotting the graph for teams won by wickets\n",
    "plt.figure(figsize=(5,5))\n",
    "plt.hist(wbw[\"Won By  wickets\"],bins=20)\n",
    "plt.show()"
   ]
  },
  {
   "cell_type": "code",
   "execution_count": 119,
   "id": "af1a601b-3d86-4b93-8409-280d7381bbef",
   "metadata": {},
   "outputs": [
    {
     "data": {
      "text/html": [
       "<div>\n",
       "<style scoped>\n",
       "    .dataframe tbody tr th:only-of-type {\n",
       "        vertical-align: middle;\n",
       "    }\n",
       "\n",
       "    .dataframe tbody tr th {\n",
       "        vertical-align: top;\n",
       "    }\n",
       "\n",
       "    .dataframe thead th {\n",
       "        text-align: right;\n",
       "    }\n",
       "</style>\n",
       "<table border=\"1\" class=\"dataframe\">\n",
       "  <thead>\n",
       "    <tr style=\"text-align: right;\">\n",
       "      <th></th>\n",
       "      <th>Match Number</th>\n",
       "      <th>Date</th>\n",
       "      <th>Day</th>\n",
       "      <th>Venue</th>\n",
       "      <th>Team1</th>\n",
       "      <th>Team2</th>\n",
       "      <th>Toss winning team</th>\n",
       "      <th>Toss Decision</th>\n",
       "      <th>First batting team</th>\n",
       "      <th>Second batting team</th>\n",
       "      <th>First Innings Score</th>\n",
       "      <th>first Innings wickets</th>\n",
       "      <th>Overs in First innings</th>\n",
       "      <th>Second Innings Score</th>\n",
       "      <th>second Innings wickets</th>\n",
       "      <th>Overs in Second innings</th>\n",
       "      <th>Winning Team</th>\n",
       "      <th>Won By runs</th>\n",
       "      <th>Won By  wickets</th>\n",
       "    </tr>\n",
       "  </thead>\n",
       "  <tbody>\n",
       "    <tr>\n",
       "      <th>0</th>\n",
       "      <td>63</td>\n",
       "      <td>16th May 2023</td>\n",
       "      <td>Tuesday</td>\n",
       "      <td>Bharat Ratna Shri Atal Bihari Vajpayee Ekana C...</td>\n",
       "      <td>Mumbai Indians</td>\n",
       "      <td>Lucknow Super Giants</td>\n",
       "      <td>MI</td>\n",
       "      <td>bowl</td>\n",
       "      <td>LSG</td>\n",
       "      <td>MI</td>\n",
       "      <td>177</td>\n",
       "      <td>3</td>\n",
       "      <td>20.0</td>\n",
       "      <td>172</td>\n",
       "      <td>5</td>\n",
       "      <td>20.0</td>\n",
       "      <td>Lucknow Super Giants</td>\n",
       "      <td>5</td>\n",
       "      <td>0</td>\n",
       "    </tr>\n",
       "    <tr>\n",
       "      <th>1</th>\n",
       "      <td>62</td>\n",
       "      <td>15th May 2023</td>\n",
       "      <td>Monday</td>\n",
       "      <td>Narendra Modi Stadium,  Ahmedabad</td>\n",
       "      <td>Gujarat Titans</td>\n",
       "      <td>Sunrisers Hyderabad</td>\n",
       "      <td>SRH</td>\n",
       "      <td>bowl</td>\n",
       "      <td>GT</td>\n",
       "      <td>SRH</td>\n",
       "      <td>188</td>\n",
       "      <td>9</td>\n",
       "      <td>20.0</td>\n",
       "      <td>154</td>\n",
       "      <td>9</td>\n",
       "      <td>20.0</td>\n",
       "      <td>Gujarat Titans</td>\n",
       "      <td>34</td>\n",
       "      <td>0</td>\n",
       "    </tr>\n",
       "    <tr>\n",
       "      <th>3</th>\n",
       "      <td>60</td>\n",
       "      <td>14th May 2023</td>\n",
       "      <td>Sunday</td>\n",
       "      <td>Sawai Mansingh Stadium,  Jaipur</td>\n",
       "      <td>Rajasthan Royals</td>\n",
       "      <td>Royal Challengers Bangalore</td>\n",
       "      <td>RCB</td>\n",
       "      <td>bat</td>\n",
       "      <td>RCB</td>\n",
       "      <td>RR</td>\n",
       "      <td>171</td>\n",
       "      <td>5</td>\n",
       "      <td>20.0</td>\n",
       "      <td>59</td>\n",
       "      <td>10</td>\n",
       "      <td>10.3</td>\n",
       "      <td>Royal Challengers Bangalore</td>\n",
       "      <td>112</td>\n",
       "      <td>0</td>\n",
       "    </tr>\n",
       "  </tbody>\n",
       "</table>\n",
       "</div>"
      ],
      "text/plain": [
       "   Match Number           Date       Day  \\\n",
       "0            63  16th May 2023   Tuesday   \n",
       "1            62  15th May 2023    Monday   \n",
       "3            60  14th May 2023    Sunday   \n",
       "\n",
       "                                               Venue             Team1  \\\n",
       "0  Bharat Ratna Shri Atal Bihari Vajpayee Ekana C...    Mumbai Indians   \n",
       "1                  Narendra Modi Stadium,  Ahmedabad    Gujarat Titans   \n",
       "3                    Sawai Mansingh Stadium,  Jaipur  Rajasthan Royals   \n",
       "\n",
       "                         Team2 Toss winning team Toss Decision  \\\n",
       "0         Lucknow Super Giants               MI           bowl   \n",
       "1          Sunrisers Hyderabad              SRH           bowl   \n",
       "3  Royal Challengers Bangalore              RCB            bat   \n",
       "\n",
       "  First batting team Second batting team First Innings Score  \\\n",
       "0                LSG                  MI                 177   \n",
       "1                 GT                 SRH                 188   \n",
       "3                RCB                  RR                 171   \n",
       "\n",
       "   first Innings wickets  Overs in First innings  Second Innings Score  \\\n",
       "0                      3                    20.0                   172   \n",
       "1                      9                    20.0                   154   \n",
       "3                      5                    20.0                    59   \n",
       "\n",
       "   second Innings wickets  Overs in Second innings  \\\n",
       "0                       5                     20.0   \n",
       "1                       9                     20.0   \n",
       "3                      10                     10.3   \n",
       "\n",
       "                  Winning Team  Won By runs   Won By  wickets  \n",
       "0         Lucknow Super Giants             5                0  \n",
       "1               Gujarat Titans            34                0  \n",
       "3  Royal Challengers Bangalore           112                0  "
      ]
     },
     "execution_count": 119,
     "metadata": {},
     "output_type": "execute_result"
    }
   ],
   "source": [
    "#checking the teams won by runs\n",
    "wbr=df[df['Won By runs ']!=0]\n",
    "wbr.head(3)"
   ]
  },
  {
   "cell_type": "code",
   "execution_count": 99,
   "id": "8aa2ea77-547f-49d0-bde7-2676f17317e9",
   "metadata": {},
   "outputs": [
    {
     "data": {
      "image/png": "[encoded data removed]",
      "text/plain": [
       "<Figure size 500x500 with 1 Axes>"
      ]
     },
     "metadata": {},
     "output_type": "display_data"
    }
   ],
   "source": [
    "#plotting the graph for teams won by runs\n",
    "plt.figure(figsize=(5,5))\n",
    "plt.hist(wbr['Won By runs '],bins=20)\n",
    "plt.show()"
   ]
  },
  {
   "cell_type": "code",
   "execution_count": 46,
   "id": "5555c6c8-236f-48a9-8b46-a702ca83f058",
   "metadata": {},
   "outputs": [
    {
     "data": {
      "text/plain": [
       "RCB     8\n",
       "PBKS    8\n",
       "CSK     7\n",
       "KKR     7\n",
       "RR      7\n",
       "LSG     6\n",
       "GT      6\n",
       "SRH     5\n",
       "MI      5\n",
       "DC      4\n",
       "Name: First batting team, dtype: int64"
      ]
     },
     "execution_count": 46,
     "metadata": {},
     "output_type": "execute_result"
    }
   ],
   "source": [
    "#checking for the team choose first batting\n",
    "df['First batting team'].value_counts()"
   ]
  },
  {
   "cell_type": "code",
   "execution_count": 88,
   "id": "2157c39d-ad1e-4a97-8926-7c5d45c2bb11",
   "metadata": {},
   "outputs": [
    {
     "data": {
      "image/png": "[encoded data removed]",
      "text/plain": [
       "<Figure size 500x500 with 1 Axes>"
      ]
     },
     "metadata": {},
     "output_type": "display_data"
    }
   ],
   "source": [
    "#plotting the graph for the team choosing first batting\n",
    "plt.figure(figsize=(5,5))\n",
    "plt.barh(list(df['First batting team'].value_counts().keys()),list(df['First batting team'].value_counts()),color='orange')\n",
    "plt.show()"
   ]
  },
  {
   "cell_type": "code",
   "execution_count": 96,
   "id": "e7a7e487-139d-451a-9651-43ff47da6476",
   "metadata": {},
   "outputs": [
    {
     "name": "stdout",
     "output_type": "stream",
     "text": [
      "Minimum score:  *125 abandoned due to rain\n",
      "Maximum score:  257\n"
     ]
    }
   ],
   "source": [
    "#checking for the maximum and minimum scores in first innings\n",
    "print(\"Minimum score: \",df['First Innings Score'].min(),\"abandoned due to rain\")\n",
    "print(\"Maximum score: \",df['First Innings Score'].max())"
   ]
  },
  {
   "cell_type": "code",
   "execution_count": 69,
   "id": "f386b2ab-d093-48a5-a1a2-116b252e400e",
   "metadata": {},
   "outputs": [
    {
     "name": "stdout",
     "output_type": "stream",
     "text": [
      "Minimum score:  0 abandoned due to rain\n",
      "Maximum score:  218\n"
     ]
    }
   ],
   "source": [
    "#checking for the minimum and maximum scores in second innings\n",
    "print(\"Minimum score: \",df['Second Innings Score'].min(),\"abandoned due to rain\")\n",
    "print(\"Maximum score: \",df['Second Innings Score'].max())"
   ]
  },
  {
   "cell_type": "code",
   "execution_count": 87,
   "id": "0d68539e-5eb8-471e-9562-7dcdd032b6db",
   "metadata": {},
   "outputs": [
    {
     "name": "stdout",
     "output_type": "stream",
     "text": [
      "Minimum wickets:  2\n",
      "Maximum wickets:  10\n"
     ]
    }
   ],
   "source": [
    "#checking minimum and maximum wicket in first innings\n",
    "print(\"Minimum wickets: \",df['first Innings wickets'].min())\n",
    "print(\"Maximum wickets: \",df['first Innings wickets'].max())"
   ]
  },
  {
   "cell_type": "code",
   "execution_count": 63,
   "id": "802d1a2b-3f5a-435b-bd3a-e007ddc36c11",
   "metadata": {},
   "outputs": [
    {
     "data": {
      "image/png": "[encoded data removed]",
      "text/plain": [
       "<Figure size 500x500 with 1 Axes>"
      ]
     },
     "metadata": {},
     "output_type": "display_data"
    }
   ],
   "source": [
    "#plotting the wickets in first innings\n",
    "plt.figure(figsize=(5,5))\n",
    "plt.bar(list(df['first Innings wickets'].value_counts().keys()),list(df['first Innings wickets'].value_counts()))\n",
    "plt.show()"
   ]
  },
  {
   "cell_type": "code",
   "execution_count": 64,
   "id": "60885ce5-4915-4afd-9267-e22bbab9b6c8",
   "metadata": {},
   "outputs": [
    {
     "name": "stdout",
     "output_type": "stream",
     "text": [
      "Minimum wickets:  0\n",
      "Maximum wickets:  10\n"
     ]
    }
   ],
   "source": [
    "#checking mimum and maximum wickets in second innings\n",
    "print(\"Minimum wickets: \",df['second Innings wickets'].min())\n",
    "print(\"Maximum wickets: \",df['second Innings wickets'].max())"
   ]
  },
  {
   "cell_type": "code",
   "execution_count": 65,
   "id": "d0605531-4e7c-4060-9224-6d94bdb3e98e",
   "metadata": {},
   "outputs": [
    {
     "data": {
      "image/png": "[encoded data removed]",
      "text/plain": [
       "<Figure size 500x500 with 1 Axes>"
      ]
     },
     "metadata": {},
     "output_type": "display_data"
    }
   ],
   "source": [
    "#plotting the wickets in second innings\n",
    "plt.figure(figsize=(5,5))\n",
    "plt.bar(list(df['second Innings wickets'].value_counts().keys()),list(df['second Innings wickets'].value_counts()))\n",
    "plt.show()"
   ]
  },
  {
   "cell_type": "code",
   "execution_count": 79,
   "id": "ba8f66a0-8010-4475-b1a6-9361c4a3817a",
   "metadata": {},
   "outputs": [
    {
     "name": "stdout",
     "output_type": "stream",
     "text": [
      "Minimun overs:  17.5\n",
      "Maximum overs:  20.0\n",
      "Mean overs:  19.938095238095237\n"
     ]
    }
   ],
   "source": [
    "#checking the min,max and mean no of overs in First innings\n",
    "print(\"Minimun overs: \",df['Overs in First innings'].min())\n",
    "print(\"Maximum overs: \",df['Overs in First innings'].max())\n",
    "print(\"Mean overs: \",df['Overs in First innings'].mean())"
   ]
  },
  {
   "cell_type": "code",
   "execution_count": 94,
   "id": "519cd7ff-0559-4b7a-9d5e-83d4be96a93d",
   "metadata": {},
   "outputs": [
    {
     "name": "stdout",
     "output_type": "stream",
     "text": [
      "Minimun overs:  0.0 abandoned due to rain\n",
      "Maximum overs:  20.0\n",
      "Mean overs:  18.53333333333333\n"
     ]
    }
   ],
   "source": [
    "#checking the min,max and mean no of overs in second innings\n",
    "print(\"Minimun overs: \",df[\"Overs in Second innings\"].min(),\"abandoned due to rain\")\n",
    "print(\"Maximum overs: \",df[\"Overs in Second innings\"].max())\n",
    "print(\"Mean overs: \",df[\"Overs in Second innings\"].mean())"
   ]
  }
 ],
 "metadata": {
  "kernelspec": {
   "display_name": "Python 3 (ipykernel)",
   "language": "python",
   "name": "python3"
  },
  "language_info": {
   "codemirror_mode": {
    "name": "ipython",
    "version": 3
   },
   "file_extension": ".py",
   "mimetype": "text/x-python",
   "name": "python",
   "nbconvert_exporter": "python",
   "pygments_lexer": "ipython3",
   "version": "3.11.3"
  }
 },
 "nbformat": 4,
 "nbformat_minor": 5
}
